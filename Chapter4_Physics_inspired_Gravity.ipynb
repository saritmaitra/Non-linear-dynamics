{
  "nbformat": 4,
  "nbformat_minor": 0,
  "metadata": {
    "colab": {
      "provenance": [],
      "toc_visible": true
    },
    "kernelspec": {
      "name": "python3",
      "display_name": "Python 3"
    },
    "language_info": {
      "name": "python"
    }
  },
  "cells": [
    {
      "cell_type": "code",
      "source": [
        "import pandas as pd\n",
        "import numpy as np\n",
        "import statsmodels.api as sm\n",
        "!pip install linearmodels\n",
        "from linearmodels import PanelOLS\n",
        "import matplotlib.pyplot as plt\n",
        "from linearmodels import RandomEffects\n",
        "from scipy.stats.mstats import winsorize\n",
        "import plotly.express as px\n",
        "from plotly.subplots import make_subplots\n",
        "import plotly.graph_objects as go\n",
        "import statsmodels.formula.api as smf\n",
        "import statsmodels.api as sm\n",
        "import seaborn as sns\n",
        "from linearmodels.panel import PanelOLS, RandomEffects\n",
        "from linearmodels.panel import compare\n",
        "from scipy.stats import chi2\n",
        "\n",
        "plt.rcParams['font.family'] = 'serif'\n",
        "plt.rcParams['font.serif'] = ['Times New Roman'] + plt.rcParams['font.serif']"
      ],
      "metadata": {
        "id": "4RSDQLleQjOQ"
      },
      "execution_count": null,
      "outputs": []
    },
    {
      "cell_type": "markdown",
      "source": [
        "## **Code Block 4.1:**\n",
        "**Data Ingestion**"
      ],
      "metadata": {
        "id": "331in88MjsWo"
      }
    },
    {
      "cell_type": "code",
      "source": [
        "chunk_size = 100000\n",
        "filtered_chunks = []\n",
        "\n",
        "for chunk in pd.read_csv(\"/content/Gravity_V202211.csv\", chunksize=chunk_size, low_memory=False ):\n",
        "    chunk_filtered = chunk[chunk[\"year\"] >= 2000]\n",
        "    filtered_chunks.append(chunk_filtered)\n",
        "\n",
        "gravity = pd.concat(filtered_chunks, ignore_index=True)\n",
        "gravity.tail()"
      ],
      "metadata": {
        "colab": {
          "base_uri": "https://localhost:8080/",
          "height": 256
        },
        "id": "ntEZN_x7x8tw",
        "outputId": "cacf2b16-f021-472c-adda-43b1e8f686f3"
      },
      "execution_count": null,
      "outputs": [
        {
          "output_type": "execute_result",
          "data": {
            "text/plain": [
              "         year country_id_o country_id_d iso3_o iso3_d  iso3num_o  iso3num_d  \\\n",
              "1397083  2017          ZWE          ZWE    ZWE    ZWE      716.0      716.0   \n",
              "1397084  2018          ZWE          ZWE    ZWE    ZWE      716.0      716.0   \n",
              "1397085  2019          ZWE          ZWE    ZWE    ZWE      716.0      716.0   \n",
              "1397086  2020          ZWE          ZWE    ZWE    ZWE      716.0      716.0   \n",
              "1397087  2021          ZWE          ZWE    ZWE    ZWE      716.0      716.0   \n",
              "\n",
              "         country_exists_o  country_exists_d  gmt_offset_2020_o  ...  \\\n",
              "1397083                 1                 1                2.0  ...   \n",
              "1397084                 1                 1                2.0  ...   \n",
              "1397085                 1                 1                2.0  ...   \n",
              "1397086                 1                 1                2.0  ...   \n",
              "1397087                 1                 1                2.0  ...   \n",
              "\n",
              "         entry_time_o  entry_time_d  entry_tp_o  entry_tp_d  \\\n",
              "1397083          61.0          61.0        70.0        70.0   \n",
              "1397084          32.0          32.0        41.0        41.0   \n",
              "1397085          27.0          27.0        36.0        36.0   \n",
              "1397086           NaN           NaN         NaN         NaN   \n",
              "1397087           NaN           NaN         NaN         NaN   \n",
              "\n",
              "         tradeflow_comtrade_o  tradeflow_comtrade_d tradeflow_baci  \\\n",
              "1397083                   NaN                   NaN            NaN   \n",
              "1397084                   NaN                   NaN            NaN   \n",
              "1397085                   NaN                   NaN            NaN   \n",
              "1397086                   NaN                   NaN            NaN   \n",
              "1397087                   NaN                   NaN            NaN   \n",
              "\n",
              "        manuf_tradeflow_baci  tradeflow_imf_o  tradeflow_imf_d  \n",
              "1397083                  NaN              NaN              NaN  \n",
              "1397084                  NaN              NaN              NaN  \n",
              "1397085                  NaN              NaN              NaN  \n",
              "1397086                  NaN              NaN              NaN  \n",
              "1397087                  NaN              NaN              NaN  \n",
              "\n",
              "[5 rows x 87 columns]"
            ],
            "text/html": [
              "\n",
              "  <div id=\"df-ff1be0ea-511f-44a8-b60e-79512bc9ddea\" class=\"colab-df-container\">\n",
              "    <div>\n",
              "<style scoped>\n",
              "    .dataframe tbody tr th:only-of-type {\n",
              "        vertical-align: middle;\n",
              "    }\n",
              "\n",
              "    .dataframe tbody tr th {\n",
              "        vertical-align: top;\n",
              "    }\n",
              "\n",
              "    .dataframe thead th {\n",
              "        text-align: right;\n",
              "    }\n",
              "</style>\n",
              "<table border=\"1\" class=\"dataframe\">\n",
              "  <thead>\n",
              "    <tr style=\"text-align: right;\">\n",
              "      <th></th>\n",
              "      <th>year</th>\n",
              "      <th>country_id_o</th>\n",
              "      <th>country_id_d</th>\n",
              "      <th>iso3_o</th>\n",
              "      <th>iso3_d</th>\n",
              "      <th>iso3num_o</th>\n",
              "      <th>iso3num_d</th>\n",
              "      <th>country_exists_o</th>\n",
              "      <th>country_exists_d</th>\n",
              "      <th>gmt_offset_2020_o</th>\n",
              "      <th>...</th>\n",
              "      <th>entry_time_o</th>\n",
              "      <th>entry_time_d</th>\n",
              "      <th>entry_tp_o</th>\n",
              "      <th>entry_tp_d</th>\n",
              "      <th>tradeflow_comtrade_o</th>\n",
              "      <th>tradeflow_comtrade_d</th>\n",
              "      <th>tradeflow_baci</th>\n",
              "      <th>manuf_tradeflow_baci</th>\n",
              "      <th>tradeflow_imf_o</th>\n",
              "      <th>tradeflow_imf_d</th>\n",
              "    </tr>\n",
              "  </thead>\n",
              "  <tbody>\n",
              "    <tr>\n",
              "      <th>1397083</th>\n",
              "      <td>2017</td>\n",
              "      <td>ZWE</td>\n",
              "      <td>ZWE</td>\n",
              "      <td>ZWE</td>\n",
              "      <td>ZWE</td>\n",
              "      <td>716.0</td>\n",
              "      <td>716.0</td>\n",
              "      <td>1</td>\n",
              "      <td>1</td>\n",
              "      <td>2.0</td>\n",
              "      <td>...</td>\n",
              "      <td>61.0</td>\n",
              "      <td>61.0</td>\n",
              "      <td>70.0</td>\n",
              "      <td>70.0</td>\n",
              "      <td>NaN</td>\n",
              "      <td>NaN</td>\n",
              "      <td>NaN</td>\n",
              "      <td>NaN</td>\n",
              "      <td>NaN</td>\n",
              "      <td>NaN</td>\n",
              "    </tr>\n",
              "    <tr>\n",
              "      <th>1397084</th>\n",
              "      <td>2018</td>\n",
              "      <td>ZWE</td>\n",
              "      <td>ZWE</td>\n",
              "      <td>ZWE</td>\n",
              "      <td>ZWE</td>\n",
              "      <td>716.0</td>\n",
              "      <td>716.0</td>\n",
              "      <td>1</td>\n",
              "      <td>1</td>\n",
              "      <td>2.0</td>\n",
              "      <td>...</td>\n",
              "      <td>32.0</td>\n",
              "      <td>32.0</td>\n",
              "      <td>41.0</td>\n",
              "      <td>41.0</td>\n",
              "      <td>NaN</td>\n",
              "      <td>NaN</td>\n",
              "      <td>NaN</td>\n",
              "      <td>NaN</td>\n",
              "      <td>NaN</td>\n",
              "      <td>NaN</td>\n",
              "    </tr>\n",
              "    <tr>\n",
              "      <th>1397085</th>\n",
              "      <td>2019</td>\n",
              "      <td>ZWE</td>\n",
              "      <td>ZWE</td>\n",
              "      <td>ZWE</td>\n",
              "      <td>ZWE</td>\n",
              "      <td>716.0</td>\n",
              "      <td>716.0</td>\n",
              "      <td>1</td>\n",
              "      <td>1</td>\n",
              "      <td>2.0</td>\n",
              "      <td>...</td>\n",
              "      <td>27.0</td>\n",
              "      <td>27.0</td>\n",
              "      <td>36.0</td>\n",
              "      <td>36.0</td>\n",
              "      <td>NaN</td>\n",
              "      <td>NaN</td>\n",
              "      <td>NaN</td>\n",
              "      <td>NaN</td>\n",
              "      <td>NaN</td>\n",
              "      <td>NaN</td>\n",
              "    </tr>\n",
              "    <tr>\n",
              "      <th>1397086</th>\n",
              "      <td>2020</td>\n",
              "      <td>ZWE</td>\n",
              "      <td>ZWE</td>\n",
              "      <td>ZWE</td>\n",
              "      <td>ZWE</td>\n",
              "      <td>716.0</td>\n",
              "      <td>716.0</td>\n",
              "      <td>1</td>\n",
              "      <td>1</td>\n",
              "      <td>2.0</td>\n",
              "      <td>...</td>\n",
              "      <td>NaN</td>\n",
              "      <td>NaN</td>\n",
              "      <td>NaN</td>\n",
              "      <td>NaN</td>\n",
              "      <td>NaN</td>\n",
              "      <td>NaN</td>\n",
              "      <td>NaN</td>\n",
              "      <td>NaN</td>\n",
              "      <td>NaN</td>\n",
              "      <td>NaN</td>\n",
              "    </tr>\n",
              "    <tr>\n",
              "      <th>1397087</th>\n",
              "      <td>2021</td>\n",
              "      <td>ZWE</td>\n",
              "      <td>ZWE</td>\n",
              "      <td>ZWE</td>\n",
              "      <td>ZWE</td>\n",
              "      <td>716.0</td>\n",
              "      <td>716.0</td>\n",
              "      <td>1</td>\n",
              "      <td>1</td>\n",
              "      <td>2.0</td>\n",
              "      <td>...</td>\n",
              "      <td>NaN</td>\n",
              "      <td>NaN</td>\n",
              "      <td>NaN</td>\n",
              "      <td>NaN</td>\n",
              "      <td>NaN</td>\n",
              "      <td>NaN</td>\n",
              "      <td>NaN</td>\n",
              "      <td>NaN</td>\n",
              "      <td>NaN</td>\n",
              "      <td>NaN</td>\n",
              "    </tr>\n",
              "  </tbody>\n",
              "</table>\n",
              "<p>5 rows × 87 columns</p>\n",
              "</div>\n",
              "    <div class=\"colab-df-buttons\">\n",
              "\n",
              "  <div class=\"colab-df-container\">\n",
              "    <button class=\"colab-df-convert\" onclick=\"convertToInteractive('df-ff1be0ea-511f-44a8-b60e-79512bc9ddea')\"\n",
              "            title=\"Convert this dataframe to an interactive table.\"\n",
              "            style=\"display:none;\">\n",
              "\n",
              "  <svg xmlns=\"http://www.w3.org/2000/svg\" height=\"24px\" viewBox=\"0 -960 960 960\">\n",
              "    <path d=\"M120-120v-720h720v720H120Zm60-500h600v-160H180v160Zm220 220h160v-160H400v160Zm0 220h160v-160H400v160ZM180-400h160v-160H180v160Zm440 0h160v-160H620v160ZM180-180h160v-160H180v160Zm440 0h160v-160H620v160Z\"/>\n",
              "  </svg>\n",
              "    </button>\n",
              "\n",
              "  <style>\n",
              "    .colab-df-container {\n",
              "      display:flex;\n",
              "      gap: 12px;\n",
              "    }\n",
              "\n",
              "    .colab-df-convert {\n",
              "      background-color: #E8F0FE;\n",
              "      border: none;\n",
              "      border-radius: 50%;\n",
              "      cursor: pointer;\n",
              "      display: none;\n",
              "      fill: #1967D2;\n",
              "      height: 32px;\n",
              "      padding: 0 0 0 0;\n",
              "      width: 32px;\n",
              "    }\n",
              "\n",
              "    .colab-df-convert:hover {\n",
              "      background-color: #E2EBFA;\n",
              "      box-shadow: 0px 1px 2px rgba(60, 64, 67, 0.3), 0px 1px 3px 1px rgba(60, 64, 67, 0.15);\n",
              "      fill: #174EA6;\n",
              "    }\n",
              "\n",
              "    .colab-df-buttons div {\n",
              "      margin-bottom: 4px;\n",
              "    }\n",
              "\n",
              "    [theme=dark] .colab-df-convert {\n",
              "      background-color: #3B4455;\n",
              "      fill: #D2E3FC;\n",
              "    }\n",
              "\n",
              "    [theme=dark] .colab-df-convert:hover {\n",
              "      background-color: #434B5C;\n",
              "      box-shadow: 0px 1px 3px 1px rgba(0, 0, 0, 0.15);\n",
              "      filter: drop-shadow(0px 1px 2px rgba(0, 0, 0, 0.3));\n",
              "      fill: #FFFFFF;\n",
              "    }\n",
              "  </style>\n",
              "\n",
              "    <script>\n",
              "      const buttonEl =\n",
              "        document.querySelector('#df-ff1be0ea-511f-44a8-b60e-79512bc9ddea button.colab-df-convert');\n",
              "      buttonEl.style.display =\n",
              "        google.colab.kernel.accessAllowed ? 'block' : 'none';\n",
              "\n",
              "      async function convertToInteractive(key) {\n",
              "        const element = document.querySelector('#df-ff1be0ea-511f-44a8-b60e-79512bc9ddea');\n",
              "        const dataTable =\n",
              "          await google.colab.kernel.invokeFunction('convertToInteractive',\n",
              "                                                    [key], {});\n",
              "        if (!dataTable) return;\n",
              "\n",
              "        const docLinkHtml = 'Like what you see? Visit the ' +\n",
              "          '<a target=\"_blank\" href=https://colab.research.google.com/notebooks/data_table.ipynb>data table notebook</a>'\n",
              "          + ' to learn more about interactive tables.';\n",
              "        element.innerHTML = '';\n",
              "        dataTable['output_type'] = 'display_data';\n",
              "        await google.colab.output.renderOutput(dataTable, element);\n",
              "        const docLink = document.createElement('div');\n",
              "        docLink.innerHTML = docLinkHtml;\n",
              "        element.appendChild(docLink);\n",
              "      }\n",
              "    </script>\n",
              "  </div>\n",
              "\n",
              "\n",
              "<div id=\"df-4e8bde39-2b81-40b9-a9c3-84dbb2883096\">\n",
              "  <button class=\"colab-df-quickchart\" onclick=\"quickchart('df-4e8bde39-2b81-40b9-a9c3-84dbb2883096')\"\n",
              "            title=\"Suggest charts\"\n",
              "            style=\"display:none;\">\n",
              "\n",
              "<svg xmlns=\"http://www.w3.org/2000/svg\" height=\"24px\"viewBox=\"0 0 24 24\"\n",
              "     width=\"24px\">\n",
              "    <g>\n",
              "        <path d=\"M19 3H5c-1.1 0-2 .9-2 2v14c0 1.1.9 2 2 2h14c1.1 0 2-.9 2-2V5c0-1.1-.9-2-2-2zM9 17H7v-7h2v7zm4 0h-2V7h2v10zm4 0h-2v-4h2v4z\"/>\n",
              "    </g>\n",
              "</svg>\n",
              "  </button>\n",
              "\n",
              "<style>\n",
              "  .colab-df-quickchart {\n",
              "      --bg-color: #E8F0FE;\n",
              "      --fill-color: #1967D2;\n",
              "      --hover-bg-color: #E2EBFA;\n",
              "      --hover-fill-color: #174EA6;\n",
              "      --disabled-fill-color: #AAA;\n",
              "      --disabled-bg-color: #DDD;\n",
              "  }\n",
              "\n",
              "  [theme=dark] .colab-df-quickchart {\n",
              "      --bg-color: #3B4455;\n",
              "      --fill-color: #D2E3FC;\n",
              "      --hover-bg-color: #434B5C;\n",
              "      --hover-fill-color: #FFFFFF;\n",
              "      --disabled-bg-color: #3B4455;\n",
              "      --disabled-fill-color: #666;\n",
              "  }\n",
              "\n",
              "  .colab-df-quickchart {\n",
              "    background-color: var(--bg-color);\n",
              "    border: none;\n",
              "    border-radius: 50%;\n",
              "    cursor: pointer;\n",
              "    display: none;\n",
              "    fill: var(--fill-color);\n",
              "    height: 32px;\n",
              "    padding: 0;\n",
              "    width: 32px;\n",
              "  }\n",
              "\n",
              "  .colab-df-quickchart:hover {\n",
              "    background-color: var(--hover-bg-color);\n",
              "    box-shadow: 0 1px 2px rgba(60, 64, 67, 0.3), 0 1px 3px 1px rgba(60, 64, 67, 0.15);\n",
              "    fill: var(--button-hover-fill-color);\n",
              "  }\n",
              "\n",
              "  .colab-df-quickchart-complete:disabled,\n",
              "  .colab-df-quickchart-complete:disabled:hover {\n",
              "    background-color: var(--disabled-bg-color);\n",
              "    fill: var(--disabled-fill-color);\n",
              "    box-shadow: none;\n",
              "  }\n",
              "\n",
              "  .colab-df-spinner {\n",
              "    border: 2px solid var(--fill-color);\n",
              "    border-color: transparent;\n",
              "    border-bottom-color: var(--fill-color);\n",
              "    animation:\n",
              "      spin 1s steps(1) infinite;\n",
              "  }\n",
              "\n",
              "  @keyframes spin {\n",
              "    0% {\n",
              "      border-color: transparent;\n",
              "      border-bottom-color: var(--fill-color);\n",
              "      border-left-color: var(--fill-color);\n",
              "    }\n",
              "    20% {\n",
              "      border-color: transparent;\n",
              "      border-left-color: var(--fill-color);\n",
              "      border-top-color: var(--fill-color);\n",
              "    }\n",
              "    30% {\n",
              "      border-color: transparent;\n",
              "      border-left-color: var(--fill-color);\n",
              "      border-top-color: var(--fill-color);\n",
              "      border-right-color: var(--fill-color);\n",
              "    }\n",
              "    40% {\n",
              "      border-color: transparent;\n",
              "      border-right-color: var(--fill-color);\n",
              "      border-top-color: var(--fill-color);\n",
              "    }\n",
              "    60% {\n",
              "      border-color: transparent;\n",
              "      border-right-color: var(--fill-color);\n",
              "    }\n",
              "    80% {\n",
              "      border-color: transparent;\n",
              "      border-right-color: var(--fill-color);\n",
              "      border-bottom-color: var(--fill-color);\n",
              "    }\n",
              "    90% {\n",
              "      border-color: transparent;\n",
              "      border-bottom-color: var(--fill-color);\n",
              "    }\n",
              "  }\n",
              "</style>\n",
              "\n",
              "  <script>\n",
              "    async function quickchart(key) {\n",
              "      const quickchartButtonEl =\n",
              "        document.querySelector('#' + key + ' button');\n",
              "      quickchartButtonEl.disabled = true;  // To prevent multiple clicks.\n",
              "      quickchartButtonEl.classList.add('colab-df-spinner');\n",
              "      try {\n",
              "        const charts = await google.colab.kernel.invokeFunction(\n",
              "            'suggestCharts', [key], {});\n",
              "      } catch (error) {\n",
              "        console.error('Error during call to suggestCharts:', error);\n",
              "      }\n",
              "      quickchartButtonEl.classList.remove('colab-df-spinner');\n",
              "      quickchartButtonEl.classList.add('colab-df-quickchart-complete');\n",
              "    }\n",
              "    (() => {\n",
              "      let quickchartButtonEl =\n",
              "        document.querySelector('#df-4e8bde39-2b81-40b9-a9c3-84dbb2883096 button');\n",
              "      quickchartButtonEl.style.display =\n",
              "        google.colab.kernel.accessAllowed ? 'block' : 'none';\n",
              "    })();\n",
              "  </script>\n",
              "</div>\n",
              "\n",
              "    </div>\n",
              "  </div>\n"
            ],
            "application/vnd.google.colaboratory.intrinsic+json": {
              "type": "dataframe"
            }
          },
          "metadata": {},
          "execution_count": 2
        }
      ]
    },
    {
      "cell_type": "code",
      "source": [
        "gravity.shape"
      ],
      "metadata": {
        "colab": {
          "base_uri": "https://localhost:8080/"
        },
        "id": "2afpJMvh9i2O",
        "outputId": "4245a624-7b1f-4d3d-8afa-7a6b2dfe7ead"
      },
      "execution_count": null,
      "outputs": [
        {
          "output_type": "execute_result",
          "data": {
            "text/plain": [
              "(1397088, 87)"
            ]
          },
          "metadata": {},
          "execution_count": 3
        }
      ]
    },
    {
      "cell_type": "code",
      "source": [
        "gravity.columns"
      ],
      "metadata": {
        "colab": {
          "base_uri": "https://localhost:8080/"
        },
        "id": "fAA-R88P8O00",
        "outputId": "b0e8466f-a473-40be-fbc4-950dbb2bb825"
      },
      "execution_count": null,
      "outputs": [
        {
          "output_type": "execute_result",
          "data": {
            "text/plain": [
              "Index(['year', 'country_id_o', 'country_id_d', 'iso3_o', 'iso3_d', 'iso3num_o',\n",
              "       'iso3num_d', 'country_exists_o', 'country_exists_d',\n",
              "       'gmt_offset_2020_o', 'gmt_offset_2020_d', 'distw_harmonic',\n",
              "       'distw_arithmetic', 'distw_harmonic_jh', 'distw_arithmetic_jh', 'dist',\n",
              "       'main_city_source_o', 'main_city_source_d', 'distcap', 'contig',\n",
              "       'diplo_disagreement', 'scaled_sci_2021', 'comlang_off', 'comlang_ethno',\n",
              "       'comcol', 'col45', 'legal_old_o', 'legal_old_d', 'legal_new_o',\n",
              "       'legal_new_d', 'comleg_pretrans', 'comleg_posttrans',\n",
              "       'transition_legalchange', 'comrelig', 'heg_o', 'heg_d', 'col_dep_ever',\n",
              "       'col_dep', 'col_dep_end_year', 'col_dep_end_conflict', 'empire',\n",
              "       'sibling_ever', 'sibling', 'sever_year', 'sib_conflict', 'pop_o',\n",
              "       'pop_d', 'gdp_o', 'gdp_d', 'gdpcap_o', 'gdpcap_d', 'pop_source_o',\n",
              "       'pop_source_d', 'gdp_source_o', 'gdp_source_d', 'gdp_ppp_o',\n",
              "       'gdp_ppp_d', 'gdpcap_ppp_o', 'gdpcap_ppp_d', 'pop_pwt_o', 'pop_pwt_d',\n",
              "       'gdp_ppp_pwt_o', 'gdp_ppp_pwt_d', 'gatt_o', 'gatt_d', 'wto_o', 'wto_d',\n",
              "       'eu_o', 'eu_d', 'fta_wto', 'fta_wto_raw', 'rta_coverage', 'rta_type',\n",
              "       'entry_cost_o', 'entry_cost_d', 'entry_proc_o', 'entry_proc_d',\n",
              "       'entry_time_o', 'entry_time_d', 'entry_tp_o', 'entry_tp_d',\n",
              "       'tradeflow_comtrade_o', 'tradeflow_comtrade_d', 'tradeflow_baci',\n",
              "       'manuf_tradeflow_baci', 'tradeflow_imf_o', 'tradeflow_imf_d'],\n",
              "      dtype='object')"
            ]
          },
          "metadata": {},
          "execution_count": 4
        }
      ]
    },
    {
      "cell_type": "markdown",
      "source": [
        "## **Code Block 4.2:**\n",
        "**Log transformation**\n"
      ],
      "metadata": {
        "id": "vj1a7S4ljXTL"
      }
    },
    {
      "cell_type": "markdown",
      "source": [
        "## **Code Bloc 4.3:**\n",
        "**PPML implementation**\n"
      ],
      "metadata": {
        "id": "NVz4Jw48kFN-"
      }
    },
    {
      "cell_type": "code",
      "source": [
        "df = gravity.copy()\n",
        "# Log GDP and Distance\n",
        "df['log_gdp_o'] = np.log(df['gdp_o'])\n",
        "df['log_gdp_d'] = np.log(df['gdp_d'])\n",
        "df['log_dist'] = np.log(df['distw_harmonic'] + 1)  # +1 to avoid log(0)\n",
        "df['log_trade'] = np.log(df['tradeflow_baci'] + 1)\n",
        "\n",
        "model = smf.poisson(\n",
        "    formula='tradeflow_baci ~ log_gdp_o + log_gdp_d + log_dist + wto_o + wto_d + fta_wto + contig + comlang_off',\n",
        "    data=df).fit(cov_type='HC0')\n",
        "print(model.summary())"
      ],
      "metadata": {
        "colab": {
          "base_uri": "https://localhost:8080/"
        },
        "id": "Tsfwx0qwWF6Q",
        "outputId": "6006a706-d95a-443f-d341-c75a280e5644"
      },
      "execution_count": null,
      "outputs": [
        {
          "output_type": "stream",
          "name": "stdout",
          "text": [
            "Optimization terminated successfully.\n",
            "         Current function value: 218652.109640\n",
            "         Iterations 16\n",
            "                          Poisson Regression Results                          \n",
            "==============================================================================\n",
            "Dep. Variable:         tradeflow_baci   No. Observations:               538950\n",
            "Model:                        Poisson   Df Residuals:                   538941\n",
            "Method:                           MLE   Df Model:                            8\n",
            "Date:                Tue, 15 Apr 2025   Pseudo R-squ.:                  0.8730\n",
            "Time:                        08:34:22   Log-Likelihood:            -1.1784e+11\n",
            "converged:                       True   LL-Null:                   -9.2762e+11\n",
            "Covariance Type:                  HC0   LLR p-value:                     0.000\n",
            "===============================================================================\n",
            "                  coef    std err          z      P>|z|      [0.025      0.975]\n",
            "-------------------------------------------------------------------------------\n",
            "Intercept     -12.8024      0.173    -73.805      0.000     -13.142     -12.462\n",
            "log_gdp_o       0.8106      0.004    198.396      0.000       0.803       0.819\n",
            "log_gdp_d       0.7881      0.005    158.219      0.000       0.778       0.798\n",
            "log_dist       -0.6469      0.009    -70.951      0.000      -0.665      -0.629\n",
            "wto_o           0.0175      0.025      0.702      0.482      -0.031       0.066\n",
            "wto_d           0.2579      0.021     12.483      0.000       0.217       0.298\n",
            "fta_wto         0.1222      0.018      6.761      0.000       0.087       0.158\n",
            "contig          0.4122      0.026     16.047      0.000       0.362       0.463\n",
            "comlang_off     0.2706      0.021     13.099      0.000       0.230       0.311\n",
            "===============================================================================\n"
          ]
        }
      ]
    },
    {
      "cell_type": "markdown",
      "source": [
        "## **Code Bloc 4.4:**\n",
        "**Check for overdispersion**"
      ],
      "metadata": {
        "id": "wMUG2aqzj4Aj"
      }
    },
    {
      "cell_type": "code",
      "source": [
        "print(\"Mean of tradeflow_baci:\", df[\"tradeflow_baci\"].mean())\n",
        "print(\"Variance of tradeflow_baci:\", df[\"tradeflow_baci\"].var())"
      ],
      "metadata": {
        "colab": {
          "base_uri": "https://localhost:8080/"
        },
        "id": "55TPVMAjpEqi",
        "outputId": "905e22f4-5b47-4eab-c864-d1838316adf3"
      },
      "execution_count": null,
      "outputs": [
        {
          "output_type": "stream",
          "name": "stdout",
          "text": [
            "Mean of tradeflow_baci: 461596.04805880354\n",
            "Variance of tradeflow_baci: 23490750343897.777\n"
          ]
        }
      ]
    },
    {
      "cell_type": "markdown",
      "source": [
        "## **Code Block 4.5:**\n",
        "**Negative Binomial model**\n"
      ],
      "metadata": {
        "id": "Dikq_g0gk9J5"
      }
    },
    {
      "source": [
        "df.loc[df.isin([np.inf, -np.inf]).any(axis=1)] = np.nan\n",
        "\n",
        "df = df.loc[df[[\"tradeflow_baci\", \"log_gdp_o\", \"log_gdp_d\", \"log_dist\", \"wto_o\", \\\n",
        "                \"wto_d\", \"fta_wto\", \"contig\", \"comlang_off\"]].notna().all(axis=1)]\n",
        "\n",
        "nb_model = sm.GLM(df[\"tradeflow_baci\"],\n",
        "                  sm.add_constant(df[[\"log_gdp_o\", \"log_gdp_d\", \"log_dist\", \"wto_o\", \"wto_d\",\\\n",
        "                                      \"fta_wto\", \"contig\", \"comlang_off\"]]),\n",
        "                  family = sm.families.NegativeBinomial())\n",
        "nb_results = nb_model.fit(cov_type = \"HC0\")\n",
        "print(nb_results.summary())"
      ],
      "cell_type": "code",
      "metadata": {
        "colab": {
          "base_uri": "https://localhost:8080/"
        },
        "id": "Zo4_y3Fyp2-y",
        "outputId": "c3eff680-01da-41f3-9fbf-bce3dd89924f"
      },
      "execution_count": null,
      "outputs": [
        {
          "output_type": "stream",
          "name": "stderr",
          "text": [
            "/usr/local/lib/python3.11/dist-packages/statsmodels/genmod/families/family.py:1367: ValueWarning: Negative binomial dispersion parameter alpha not set. Using default value alpha=1.0.\n",
            "  warnings.warn(\"Negative binomial dispersion parameter alpha not \"\n"
          ]
        },
        {
          "output_type": "stream",
          "name": "stdout",
          "text": [
            "                 Generalized Linear Model Regression Results                  \n",
            "==============================================================================\n",
            "Dep. Variable:         tradeflow_baci   No. Observations:               538950\n",
            "Model:                            GLM   Df Residuals:                   538941\n",
            "Model Family:        NegativeBinomial   Df Model:                            8\n",
            "Link Function:                    Log   Scale:                          1.0000\n",
            "Method:                          IRLS   Log-Likelihood:            -5.9665e+06\n",
            "Date:                Tue, 15 Apr 2025   Deviance:                   2.6444e+06\n",
            "Time:                        08:40:17   Pearson chi2:                 8.24e+07\n",
            "No. Iterations:                   100   Pseudo R-squ. (CS):             0.9980\n",
            "Covariance Type:                  HC0                                         \n",
            "===============================================================================\n",
            "                  coef    std err          z      P>|z|      [0.025      0.975]\n",
            "-------------------------------------------------------------------------------\n",
            "const          -9.6894      0.149    -65.118      0.000      -9.981      -9.398\n",
            "log_gdp_o       0.7682      0.010     77.134      0.000       0.749       0.788\n",
            "log_gdp_d       0.6739      0.006    109.775      0.000       0.662       0.686\n",
            "log_dist       -0.6002      0.021    -28.400      0.000      -0.642      -0.559\n",
            "wto_o          -0.3234      0.061     -5.306      0.000      -0.443      -0.204\n",
            "wto_d          -0.4293      0.050     -8.626      0.000      -0.527      -0.332\n",
            "fta_wto         0.5225      0.023     23.055      0.000       0.478       0.567\n",
            "contig          1.1366      0.030     37.308      0.000       1.077       1.196\n",
            "comlang_off     0.7176      0.054     13.390      0.000       0.613       0.823\n",
            "===============================================================================\n"
          ]
        }
      ]
    },
    {
      "cell_type": "markdown",
      "source": [
        "## **Code Block 4.6:**\n",
        "**Counterfactual analysis**"
      ],
      "metadata": {
        "id": "E3l5Cr6XnUgp"
      }
    },
    {
      "cell_type": "code",
      "source": [
        "# Filter out intra-national trade flows\n",
        "df = df[df['iso3_o'] != df['iso3_d']].copy()\n",
        "\n",
        "# Baseline: Real WTO Memberships\n",
        "df['predicted_trade'] = model.predict(df)\n",
        "\n",
        "# WTO Exit Simulations\n",
        "# Importer WTO Exit\n",
        "df_imp_cf = df.copy()\n",
        "df_imp_cf['wto_d'] = 0\n",
        "df['pred_trade_cf_imp'] = model.predict(df_imp_cf)\n",
        "df['trade_loss_imp'] = df['predicted_trade'] - df['pred_trade_cf_imp']\n",
        "df['pct_loss_imp'] = 100 * df['trade_loss_imp'] / df['predicted_trade']\n",
        "\n",
        "# Exporter WTO Exit\n",
        "df_exp_cf = df.copy()\n",
        "df_exp_cf['wto_o'] = 0\n",
        "df['pred_trade_cf_exp'] = model.predict(df_exp_cf)\n",
        "df['trade_loss_exp'] = df['predicted_trade'] - df['pred_trade_cf_exp']\n",
        "df['pct_loss_exp'] = 100 * df['trade_loss_exp'] / df['predicted_trade']\n",
        "\n",
        "# Both WTO Exit\n",
        "df_both_cf = df.copy()\n",
        "df_both_cf['wto_o'] = 0\n",
        "df_both_cf['wto_d'] = 0\n",
        "df['pred_trade_cf_both'] = model.predict(df_both_cf)\n",
        "df['trade_loss_both'] = df['predicted_trade'] - df['pred_trade_cf_both']\n",
        "df['pct_loss_both'] = 100 * df['trade_loss_both'] / df['predicted_trade']\n",
        "\n",
        "# Global WTO Exit\n",
        "df_wto_exit = df.copy()\n",
        "df_wto_exit['wto_o'] = 0\n",
        "df_wto_exit['wto_d'] = 0\n",
        "df['predicted_trade_cf_wto'] = model.predict(df_wto_exit)\n",
        "df['trade_loss_wto_exit'] = df['predicted_trade'] - df['predicted_trade_cf_wto']\n",
        "df['trade_loss_pct_wto_exit'] = 100 * df['trade_loss_wto_exit'] / df['predicted_trade']\n",
        "\n",
        "# FTA Introduction Simulation\n",
        "df_fta = df.copy()\n",
        "df_fta['fta_wto'] = 1  # Simulate universal FTA\n",
        "df['predicted_trade_cf_fta'] = model.predict(df_fta)\n",
        "df['trade_gain_fta'] = df['predicted_trade_cf_fta'] - df['predicted_trade']\n",
        "df['trade_gain_pct_fta'] = 100 * df['trade_gain_fta'] / df['predicted_trade']\n",
        "\n",
        "print(\"WTO Exit Scenarios\")\n",
        "print(f\"Avg Trade Loss (Importer WTO Exit): {df['trade_loss_imp'].mean():,.2f}\")\n",
        "print(f\"Avg % Trade Loss (Importer): {df['pct_loss_imp'].mean():.2f}%\")\n",
        "print(f\"Avg Trade Loss (Exporter WTO Exit): {df['trade_loss_exp'].mean():,.2f}\")\n",
        "print(f\"Avg % Trade Loss (Exporter): {df['pct_loss_exp'].mean():.2f}%\")\n",
        "print(f\"Avg Trade Loss (Both WTO Exit): {df['trade_loss_both'].mean():,.2f}\")\n",
        "print(f\"Avg % Trade Loss (Both): {df['pct_loss_both'].mean():.2f}%\")\n",
        "print(f\"Avg Trade Loss (Global WTO Exit): {df['trade_loss_wto_exit'].mean():,.2f}\")\n",
        "print(f\"Avg % Trade Loss (Global WTO Exit): {df['trade_loss_pct_wto_exit'].mean():.2f}%\")\n",
        "\n",
        "print(\"\\nFTA Scenario\")\n",
        "print(f\"Avg Trade Gain from Universal FTA: {df['trade_gain_fta'].mean():,.2f}\")\n",
        "print(f\"Avg % Trade Gain from Universal FTA:{df['trade_gain_pct_fta'].mean():.2f}%\")"
      ],
      "metadata": {
        "colab": {
          "base_uri": "https://localhost:8080/"
        },
        "id": "sC8QI08nTciN",
        "outputId": "c0a78925-8e08-46d7-96e0-ab0d37be0210"
      },
      "execution_count": null,
      "outputs": [
        {
          "output_type": "stream",
          "name": "stdout",
          "text": [
            "WTO Exit Scenarios\n",
            "Avg Trade Loss (Importer WTO Exit): 116,157.44\n",
            "Avg % Trade Loss (Importer): 19.26%\n",
            "Avg Trade Loss (Exporter WTO Exit): 8,793.14\n",
            "Avg % Trade Loss (Exporter): 1.48%\n",
            "Avg Trade Loss (Both WTO Exit): 123,015.37\n",
            "Avg % Trade Loss (Both): 20.45%\n",
            "Avg Trade Loss (Global WTO Exit): 123,015.37\n",
            "Avg % Trade Loss (Global WTO Exit): 20.45%\n",
            "\n",
            "FTA Scenario\n",
            "Avg Trade Gain from Universal FTA: 34,948.84\n",
            "Avg % Trade Gain from Universal FTA:11.09%\n"
          ]
        }
      ]
    },
    {
      "cell_type": "markdown",
      "source": [
        "## **Code Block 4.7:**\n",
        "**Visual summary of counterfactual analysis**\n"
      ],
      "metadata": {
        "id": "Ny9F4-vRoIL0"
      }
    },
    {
      "cell_type": "code",
      "source": [
        "scenarios = ['WTO Exit', 'FTA Signed']\n",
        "avg_trade_change = [-112938.22, 38433.95]\n",
        "avg_percent_change = [-18.99, 11.56]\n",
        "\n",
        "df = pd.DataFrame({\n",
        "    'Scenario': scenarios,\n",
        "    'Average Trade Change': avg_trade_change,\n",
        "    'Average % Change': avg_percent_change})\n",
        "\n",
        "sns.set(style=\"whitegrid\")\n",
        "plt.figure(figsize=(12, 6))\n",
        "\n",
        "# Barplot for absolute trade change\n",
        "plt.subplot(1, 2, 1)\n",
        "sns.barplot(x='Scenario', y='Average Trade Change', data=df, palette=['#d9534f', '#5cb85c'])\n",
        "plt.title('Average Change in Trade Flow')\n",
        "plt.ylabel('Trade Flow (units)')\n",
        "plt.xlabel('')\n",
        "\n",
        "# Barplot for % trade change\n",
        "plt.subplot(1, 2, 2)\n",
        "sns.barplot(x='Scenario', y='Average % Change', data=df, palette=['#d9534f', '#5cb85c'])\n",
        "plt.title('Average % Change in Trade Flow')\n",
        "plt.ylabel('Percent Change (%)')\n",
        "plt.xlabel('')\n",
        "\n",
        "plt.tight_layout()\n",
        "plt.show()"
      ],
      "metadata": {
        "colab": {
          "base_uri": "https://localhost:8080/",
          "height": 795
        },
        "id": "MUUtFowtOPw3",
        "outputId": "0b83dc32-22f7-4d65-9953-7a6e4d11bfa0"
      },
      "execution_count": null,
      "outputs": [
        {
          "output_type": "stream",
          "name": "stderr",
          "text": [
            "<ipython-input-13-c2204b49dad2>:23: FutureWarning: \n",
            "\n",
            "Passing `palette` without assigning `hue` is deprecated and will be removed in v0.14.0. Assign the `x` variable to `hue` and set `legend=False` for the same effect.\n",
            "\n",
            "  sns.barplot(x='Scenario', y='Average Trade Change', data=df, palette=['#d9534f', '#5cb85c'])\n",
            "<ipython-input-13-c2204b49dad2>:30: FutureWarning: \n",
            "\n",
            "Passing `palette` without assigning `hue` is deprecated and will be removed in v0.14.0. Assign the `x` variable to `hue` and set `legend=False` for the same effect.\n",
            "\n",
            "  sns.barplot(x='Scenario', y='Average % Change', data=df, palette=['#d9534f', '#5cb85c'])\n"
          ]
        },
        {
          "output_type": "display_data",
          "data": {
            "text/plain": [
              "<Figure size 1200x600 with 2 Axes>"
            ],
            "image/png": "[encoded data removed]"
          },
          "metadata": {}
        }
      ]
    },
    {
      "cell_type": "markdown",
      "source": [
        "## **Code Block 48:**\n",
        "**Panel OLS implementation**\n"
      ],
      "metadata": {
        "id": "bwKv3fiP5bgw"
      }
    },
    {
      "cell_type": "code",
      "source": [
        "df_agg = gravity.groupby(['year', 'iso3_o']).agg({\n",
        "    'tradeflow_baci': 'sum',\n",
        "    'gdp_o': 'mean',\n",
        "    'pop_o': 'mean'}).reset_index()\n",
        "\n",
        "df_agg['log_tradeflow'] = (df_agg['tradeflow_baci'] + 1).apply(np.log)\n",
        "df_agg['log_gdp'] = (df_agg['gdp_o'] + 1).apply(np.log)\n",
        "df_agg['log_pop'] = (df_agg['pop_o'] + 1).apply(np.log)\n",
        "\n",
        "df_agg = df_agg.rename(columns={'iso3_o': 'country'})"
      ],
      "metadata": {
        "id": "FqtHznMKR9gD"
      },
      "execution_count": null,
      "outputs": []
    },
    {
      "cell_type": "code",
      "source": [
        "df_agg_panel = df_agg.set_index(['country', 'year'])\n",
        "\n",
        "panel_model = PanelOLS.from_formula(\n",
        "    'log_gdp ~ log_tradeflow + log_pop + EntityEffects + TimeEffects',\n",
        "    data=df_agg_panel)\n",
        "panel_results = panel_model.fit(cov_type='clustered', cluster_entity=True)\n",
        "\n",
        "print(panel_results.summary)"
      ],
      "metadata": {
        "colab": {
          "base_uri": "https://localhost:8080/"
        },
        "id": "r9UtsAP6SSs6",
        "outputId": "73111212-3562-4176-eaaf-8a64b1a5a72e"
      },
      "execution_count": null,
      "outputs": [
        {
          "output_type": "stream",
          "name": "stdout",
          "text": [
            "                          PanelOLS Estimation Summary                           \n",
            "================================================================================\n",
            "Dep. Variable:                log_gdp   R-squared:                        0.1476\n",
            "Estimator:                   PanelOLS   R-squared (Between):              0.6794\n",
            "No. Observations:                4313   R-squared (Within):              -0.0252\n",
            "Date:                Tue, Apr 15 2025   R-squared (Overall):              0.6838\n",
            "Time:                        10:04:09   Log-likelihood                    400.22\n",
            "Cov. Estimator:             Clustered                                           \n",
            "                                        F-statistic:                      353.14\n",
            "Entities:                         211   P-value                           0.0000\n",
            "Avg Obs:                       20.441   Distribution:                  F(2,4079)\n",
            "Min Obs:                       2.0000                                           \n",
            "Max Obs:                       22.000   F-statistic (robust):             36.254\n",
            "                                        P-value                           0.0000\n",
            "Time periods:                      22   Distribution:                  F(2,4079)\n",
            "Avg Obs:                       196.05                                           \n",
            "Min Obs:                       177.00                                           \n",
            "Max Obs:                       207.00                                           \n",
            "                                                                                \n",
            "                               Parameter Estimates                               \n",
            "=================================================================================\n",
            "               Parameter  Std. Err.     T-stat    P-value    Lower CI    Upper CI\n",
            "---------------------------------------------------------------------------------\n",
            "log_tradeflow     0.0703     0.0163     4.3276     0.0000      0.0385      0.1022\n",
            "log_pop           0.7558     0.1237     6.1096     0.0000      0.5133      0.9984\n",
            "=================================================================================\n",
            "\n",
            "F-test for Poolability: 780.93\n",
            "P-value: 0.0000\n",
            "Distribution: F(231,4079)\n",
            "\n",
            "Included effects: Entity, Time\n"
          ]
        },
        {
          "output_type": "stream",
          "name": "stderr",
          "text": [
            "/usr/local/lib/python3.11/dist-packages/linearmodels/panel/model.py:1260: MissingValueWarning: \n",
            "Inputs contain missing values. Dropping rows with missing observations.\n",
            "  super().__init__(dependent, exog, weights=weights, check_rank=check_rank)\n"
          ]
        }
      ]
    },
    {
      "cell_type": "markdown",
      "source": [
        "## **Code Block 4.9:**\n",
        "**Model comparison**\n"
      ],
      "metadata": {
        "id": "L1-hgh3W2L0N"
      }
    },
    {
      "cell_type": "code",
      "source": [
        "df_agg_panel = df_agg.set_index(['country', 'year'])\n",
        "\n",
        "# FE Model\n",
        "model_fe = PanelOLS.from_formula(\n",
        "    'log_gdp ~ log_tradeflow + log_pop + EntityEffects + TimeEffects',\n",
        "    data=df_agg_panel)\n",
        "results_fe = model_fe.fit(cov_type='clustered', cluster_entity=True)\n",
        "\n",
        "# RE Model\n",
        "model_re = RandomEffects.from_formula(\n",
        "    'log_gdp ~ log_tradeflow + log_pop',\n",
        "    data=df_agg_panel)\n",
        "results_re = model_re.fit(cov_type='clustered', cluster_entity=True)\n",
        "\n",
        "# Hausman Test via model comparison\n",
        "comparison = compare({'Fixed Effects': results_fe, 'Random Effects': results_re})\n",
        "print(comparison)\n"
      ],
      "metadata": {
        "colab": {
          "base_uri": "https://localhost:8080/"
        },
        "id": "8ndooKugzO1f",
        "outputId": "d8d369e5-fd26-44c1-f5ea-8ee0bd8ceffb"
      },
      "execution_count": null,
      "outputs": [
        {
          "output_type": "stream",
          "name": "stderr",
          "text": [
            "/usr/local/lib/python3.11/dist-packages/linearmodels/panel/model.py:1260: MissingValueWarning: \n",
            "Inputs contain missing values. Dropping rows with missing observations.\n",
            "  super().__init__(dependent, exog, weights=weights, check_rank=check_rank)\n",
            "/usr/local/lib/python3.11/dist-packages/linearmodels/panel/model.py:2759: MissingValueWarning: \n",
            "Inputs contain missing values. Dropping rows with missing observations.\n",
            "  super().__init__(dependent, exog, weights=weights, check_rank=check_rank)\n"
          ]
        },
        {
          "output_type": "stream",
          "name": "stdout",
          "text": [
            "                    Model Comparison                   \n",
            "=======================================================\n",
            "                        Fixed Effects    Random Effects\n",
            "-------------------------------------------------------\n",
            "Dep. Variable                 log_gdp           log_gdp\n",
            "Estimator                    PanelOLS     RandomEffects\n",
            "No. Observations                 4313              4313\n",
            "Cov. Est.                   Clustered         Clustered\n",
            "R-squared                      0.1476            0.7671\n",
            "R-Squared (Within)            -0.0252            0.4493\n",
            "R-Squared (Between)            0.6794            0.9631\n",
            "R-Squared (Overall)            0.6838            0.9661\n",
            "F-statistic                    353.14            7097.8\n",
            "P-value (F-stat)               0.0000            0.0000\n",
            "=====================     ===========   ===============\n",
            "log_tradeflow                  0.0703           -0.0038\n",
            "                             (4.3276)         (-2.3880)\n",
            "log_pop                        0.7558            2.0421\n",
            "                             (6.1096)          (93.054)\n",
            "======================= ============= =================\n",
            "Effects                        Entity                  \n",
            "                                 Time                  \n",
            "-------------------------------------------------------\n",
            "\n",
            "T-stats reported in parentheses\n"
          ]
        }
      ]
    },
    {
      "cell_type": "markdown",
      "source": [
        "## **Code Block 4.10:**\n",
        "**Hausman test**\n",
        "\n"
      ],
      "metadata": {
        "id": "1WL6twkL2HPH"
      }
    },
    {
      "cell_type": "code",
      "source": [
        "# Step 2.1: Get coefficients and variance-covariance matrices\n",
        "b_fe = results_fe.params\n",
        "b_re = results_re.params\n",
        "\n",
        "v_fe = results_fe.cov\n",
        "v_re = results_re.cov\n",
        "\n",
        "# Step 2.2: Align coefficients\n",
        "common_coef = list(set(b_fe.index).intersection(b_re.index))\n",
        "b_diff = b_fe[common_coef] - b_re[common_coef]\n",
        "v_diff = v_fe.loc[common_coef, common_coef] - v_re.loc[common_coef, common_coef]\n",
        "\n",
        "# Step 2.3: Hausman statistic\n",
        "stat = float(b_diff.T @ np.linalg.inv(v_diff) @ b_diff)\n",
        "df_h = len(b_diff)\n",
        "pval = 1 - chi2.cdf(stat, df_h)\n",
        "\n",
        "print(f\"Hausman Test Statistic: {stat:.4f}\")\n",
        "print(f\"Degrees of Freedom: {df_h}\")\n",
        "print(f\"P-value: {pval:.4f}\")"
      ],
      "metadata": {
        "colab": {
          "base_uri": "https://localhost:8080/"
        },
        "id": "jz5EgvWyzO7A",
        "outputId": "8958d9c8-a9b0-4618-eb8d-4df16a5e898e"
      },
      "execution_count": null,
      "outputs": [
        {
          "output_type": "stream",
          "name": "stdout",
          "text": [
            "Hausman Test Statistic: 116.1944\n",
            "Degrees of Freedom: 2\n",
            "P-value: 0.0000\n"
          ]
        }
      ]
    }
  ]
}